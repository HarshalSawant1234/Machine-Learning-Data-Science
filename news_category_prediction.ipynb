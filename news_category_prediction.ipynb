{
 "cells": [
  {
   "cell_type": "code",
   "execution_count": 72,
   "metadata": {},
   "outputs": [
    {
     "data": {
      "text/plain": [
       "(7628, 14141)"
      ]
     },
     "execution_count": 72,
     "metadata": {},
     "output_type": "execute_result"
    },
    {
     "data": {
      "text/plain": [
       "GaussianNB(priors=None, var_smoothing=1e-09)"
      ]
     },
     "execution_count": 72,
     "metadata": {},
     "output_type": "execute_result"
    }
   ],
   "source": [
    "import numpy as np\n",
    "import pandas as pd\n",
    "\n",
    "dataset = pd.read_excel('Data_Train.xlsx',delimiter='\\t',quoting=3)\n",
    "testing_data = pd.read_excel('Data_Test.xlsx',delimiter='\\t',quoting=3)\n",
    "#quoting = 3 for ignoring the double quotes\n",
    "\n",
    "import re\n",
    "import nltk\n",
    "#nltk.download('stopwords')\n",
    "from nltk.corpus import stopwords # corpus implies collection of words of same type\n",
    "from nltk.stem.porter import PorterStemmer\n",
    "corpus = []\n",
    "for i in range(0,7628):\n",
    "    review = re.sub('[^a-zA-Z]',' ',dataset['STORY'][i])\n",
    "    # re.sub function with ^ only keeps character and removes all the punctuation\n",
    "    #' '= space so that two words dont joint\n",
    "    review = review.lower()\n",
    "    # lowercase character\n",
    "    review = review.split()\n",
    "    # to convert string into list\n",
    "    ps = PorterStemmer()\n",
    "    review = [ps.stem(word) for word in review if not word in set(stopwords.words('english'))]\n",
    "    # set for faster execution\n",
    "    # checking irrelevant words in stopwords e.g this\n",
    "    # PorterStemmer converts 'loved' into 'love' into their original stem\n",
    "\n",
    "    review = ' '.join(review) \n",
    "    # convert the list into string again. # ' ' - so that words dont join\n",
    "    corpus.append(review) # to append the review to the corpus list\n",
    "    \n",
    "from sklearn.feature_extraction.text import CountVectorizer\n",
    "cv = CountVectorizer(max_features = 14141) # include most frequent 1500 words \n",
    "X = cv.fit_transform(corpus).toarray()\n",
    "y = dataset.iloc[:,1].values\n",
    "# Naive Bayes , Decision Tree Classification , Random Forest Classification frequently used\n",
    "\n",
    "X.shape\n",
    "\n",
    "#from sklearn.model_selection import train_test_split \n",
    "#X_train , X_test , y_train , y_test = train_test_split(X ,y,test_size=0.20,random_state = 0)\n",
    "from sklearn.naive_bayes import GaussianNB\n",
    "classifier = GaussianNB()\n",
    "classifier.fit(X , y)\n",
    "\n",
    "\n",
    "\n",
    "corpus1 = []\n",
    "for i in range(0,2748):\n",
    "    review1 = re.sub('[^a-zA-Z]',' ',testing_data['STORY'][i])\n",
    "    review1 = review1.lower()\n",
    "    review1 = review1.split()\n",
    "    ps1 = PorterStemmer()\n",
    "    review1 = [ps1.stem(word1) for word1 in review1 if not word1 in set(stopwords.words('english'))]\n",
    "    review1 = ' '.join(review1) \n",
    "    corpus1.append(review1) # to append the review to the corpus list\n",
    "    \n",
    "\n",
    "cv1 = CountVectorizer() # include most frequent 1500 words \n",
    "X_test = cv1.fit_transform(corpus1).toarray()\n",
    "# Naive Bayes , Decision Tree Classification , Random Forest Classification frequently used\n",
    "\n",
    "y_pred = classifier.predict(X_test)\n",
    "#from sklearn.metrics import confusion_matrix\n",
    "#cm = confusion_matrix(y_test , y_pred)\n",
    "#accuracy = classifier.score(X_test, y_test)\n",
    "#print(\"accuracy\",accuracy)"
   ]
  },
  {
   "cell_type": "code",
   "execution_count": 73,
   "metadata": {},
   "outputs": [
    {
     "name": "stdout",
     "output_type": "stream",
     "text": [
      "Saved file: News_prediction.xlsx\n"
     ]
    }
   ],
   "source": [
    "submission = pd.DataFrame({'SECTION':y_pred})\n",
    "filename = 'News_prediction.xlsx'\n",
    "submission.to_excel(filename)\n",
    "print('Saved file: ' + filename)"
   ]
  },
  {
   "cell_type": "code",
   "execution_count": 74,
   "metadata": {},
   "outputs": [
    {
     "data": {
      "text/plain": [
       "(7628, 14141)"
      ]
     },
     "execution_count": 74,
     "metadata": {},
     "output_type": "execute_result"
    },
    {
     "data": {
      "text/plain": [
       "(2748, 14141)"
      ]
     },
     "execution_count": 74,
     "metadata": {},
     "output_type": "execute_result"
    },
    {
     "data": {
      "text/plain": [
       "(7628,)"
      ]
     },
     "execution_count": 74,
     "metadata": {},
     "output_type": "execute_result"
    }
   ],
   "source": [
    "X.shape\n",
    "X_test.shape\n",
    "y.shape"
   ]
  },
  {
   "cell_type": "code",
   "execution_count": 75,
   "metadata": {},
   "outputs": [
    {
     "data": {
      "text/plain": [
       "(2748,)"
      ]
     },
     "execution_count": 75,
     "metadata": {},
     "output_type": "execute_result"
    }
   ],
   "source": [
    "y_pred.shape"
   ]
  },
  {
   "cell_type": "code",
   "execution_count": null,
   "metadata": {},
   "outputs": [],
   "source": []
  }
 ],
 "metadata": {
  "kernelspec": {
   "display_name": "Python 3",
   "language": "python",
   "name": "python3"
  },
  "language_info": {
   "codemirror_mode": {
    "name": "ipython",
    "version": 3
   },
   "file_extension": ".py",
   "mimetype": "text/x-python",
   "name": "python",
   "nbconvert_exporter": "python",
   "pygments_lexer": "ipython3",
   "version": "3.6.7"
  }
 },
 "nbformat": 4,
 "nbformat_minor": 2
}
